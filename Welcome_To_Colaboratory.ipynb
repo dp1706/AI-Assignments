{
  "nbformat": 4,
  "nbformat_minor": 0,
  "metadata": {
    "colab": {
      "name": "Welcome To Colaboratory",
      "provenance": [],
      "collapsed_sections": [],
      "toc_visible": true,
      "include_colab_link": true
    },
    "kernelspec": {
      "display_name": "Python 3",
      "name": "python3"
    }
  },
  "cells": [
    {
      "cell_type": "markdown",
      "metadata": {
        "id": "view-in-github",
        "colab_type": "text"
      },
      "source": [
        "<a href=\"https://colab.research.google.com/github/dp1706/AI-Assignments/blob/master/Welcome_To_Colaboratory.ipynb\" target=\"_parent\"><img src=\"https://colab.research.google.com/assets/colab-badge.svg\" alt=\"Open In Colab\"/></a>"
      ]
    },
    {
      "cell_type": "markdown",
      "metadata": {
        "colab_type": "text",
        "id": "5fCEDCU_qrC0"
      },
      "source": [
        "<p><img alt=\"Colaboratory logo\" height=\"45px\" src=\"/img/colab_favicon.ico\" align=\"left\" hspace=\"10px\" vspace=\"0px\"></p>\n",
        "\n",
        "<h1>What is Colaboratory?</h1>\n",
        "\n",
        "Colaboratory, or \"Colab\" for short, allows you to write and execute Python in your browser, with \n",
        "- Zero configuration required\n",
        "- Free access to GPUs\n",
        "- Easy sharing\n",
        "\n",
        "Whether you're a **student**, a **data scientist** or an **AI researcher**, Colab can make your work easier. Watch [Introduction to Colab](https://www.youtube.com/watch?v=inN8seMm7UI) to learn more, or just get started below!"
      ]
    },
    {
      "cell_type": "markdown",
      "metadata": {
        "colab_type": "text",
        "id": "GJBs_flRovLc"
      },
      "source": [
        "## **Getting started**\n",
        "\n",
        "The document you are reading is not a static web page, but an interactive environment called a **Colab notebook** that lets you write and execute code.\n",
        "\n",
        "For example, here is a **code cell** with a short Python script that computes a value, stores it in a variable, and prints the result:"
      ]
    },
    {
      "cell_type": "code",
      "metadata": {
        "colab_type": "code",
        "id": "gJr_9dXGpJ05",
        "colab": {
          "base_uri": "https://localhost:8080/",
          "height": 34
        },
        "outputId": "9f556d03-ec67-4950-a485-cfdba9ddd14d"
      },
      "source": [
        "seconds_in_a_day = 24 * 60 * 60\n",
        "seconds_in_a_day"
      ],
      "execution_count": null,
      "outputs": [
        {
          "output_type": "execute_result",
          "data": {
            "text/plain": [
              "86400"
            ]
          },
          "metadata": {
            "tags": []
          },
          "execution_count": 0
        }
      ]
    },
    {
      "cell_type": "markdown",
      "metadata": {
        "colab_type": "text",
        "id": "2fhs6GZ4qFMx"
      },
      "source": [
        "To execute the code in the above cell, select it with a click and then either press the play button to the left of the code, or use the keyboard shortcut \"Command/Ctrl+Enter\". To edit the code, just click the cell and start editing.\n",
        "\n",
        "Variables that you define in one cell can later be used in other cells:"
      ]
    },
    {
      "cell_type": "code",
      "metadata": {
        "colab_type": "code",
        "id": "-gE-Ez1qtyIA",
        "colab": {
          "base_uri": "https://localhost:8080/",
          "height": 34
        },
        "outputId": "94cb2224-0edf-457b-90b5-0ac3488d8a97"
      },
      "source": [
        "seconds_in_a_week = 7 * seconds_in_a_day\n",
        "seconds_in_a_week"
      ],
      "execution_count": null,
      "outputs": [
        {
          "output_type": "execute_result",
          "data": {
            "text/plain": [
              "604800"
            ]
          },
          "metadata": {
            "tags": []
          },
          "execution_count": 0
        }
      ]
    },
    {
      "cell_type": "markdown",
      "metadata": {
        "colab_type": "text",
        "id": "lSrWNr3MuFUS"
      },
      "source": [
        "Colab notebooks allow you to combine **executable code** and **rich text** in a single document, along with **images**, **HTML**, **LaTeX** and more. When you create your own Colab notebooks, they are stored in your Google Drive account. You can easily share your Colab notebooks with co-workers or friends, allowing them to comment on your notebooks or even edit them. To learn more, see [Overview of Colab](/notebooks/basic_features_overview.ipynb). To create a new Colab notebook you can use the File menu above, or use the following link: [create a new Colab notebook](http://colab.research.google.com#create=true).\n",
        "\n",
        "Colab notebooks are Jupyter notebooks that are hosted by Colab. To learn more about the Jupyter project, see [jupyter.org](https://www.jupyter.org)."
      ]
    },
    {
      "cell_type": "markdown",
      "metadata": {
        "colab_type": "text",
        "id": "UdRyKR44dcNI"
      },
      "source": [
        "## Data science\n",
        "\n",
        "With Colab you can harness the full power of popular Python libraries to analyze and visualize data. The code cell below uses **numpy** to generate some random data, and uses **matplotlib** to visualize it. To edit the code, just click the cell and start editing."
      ]
    },
    {
      "cell_type": "code",
      "metadata": {
        "colab_type": "code",
        "id": "C4HZx7Gndbrh",
        "colab": {
          "base_uri": "https://localhost:8080/",
          "height": 281
        },
        "outputId": "46abc637-6abd-41b2-9bba-80a7ae992e06"
      },
      "source": [
        "import numpy as np\n",
        "from matplotlib import pyplot as plt\n",
        "\n",
        "ys = 200 + np.random.randn(100)\n",
        "x = [x for x in range(len(ys))]\n",
        "\n",
        "plt.plot(x, ys, '-')\n",
        "plt.fill_between(x, ys, 195, where=(ys > 195), facecolor='g', alpha=0.6)\n",
        "\n",
        "plt.title(\"Sample Visualization\")\n",
        "plt.show()"
      ],
      "execution_count": null,
      "outputs": [
        {
          "output_type": "display_data",
          "data": {
            "image/png": "[encoded data removed]",
            "text/plain": [
              "<Figure size 432x288 with 1 Axes>"
            ]
          },
          "metadata": {
            "tags": []
          }
        }
      ]
    },
    {
      "cell_type": "markdown",
      "metadata": {
        "colab_type": "text",
        "id": "4_kCnsPUqS6o"
      },
      "source": [
        "You can import your own data into Colab notebooks from your Google Drive account, including from spreadsheets, as well as from Github and many other sources. To learn more about importing data, and how Colab can be used for data science, see the links below under [Working with Data](#working-with-data)."
      ]
    },
    {
      "cell_type": "markdown",
      "metadata": {
        "colab_type": "text",
        "id": "OwuxHmxllTwN"
      },
      "source": [
        "## Machine learning\n",
        "\n",
        "With Colab you can import an image dataset, train an image classifier on it, and evaluate the model, all in just [a few lines of code](https://colab.research.google.com/github/tensorflow/docs/blob/master/site/en/tutorials/quickstart/beginner.ipynb). Colab notebooks execute code on Google's cloud servers, meaning you can leverage the power of Google hardware, including [GPUs and TPUs](#using-accelerated-hardware), regardless of the power of your machine. All you need is a browser."
      ]
    },
    {
      "cell_type": "markdown",
      "metadata": {
        "colab_type": "text",
        "id": "ufxBm1yRnruN"
      },
      "source": [
        "Colab is used extensively in the machine learning community with applications including:\n",
        "- Getting started with TensorFlow\n",
        "- Developing and training neural networks\n",
        "- Experimenting with TPUs\n",
        "- Disseminating AI research\n",
        "- Creating tutorials\n",
        "\n",
        "To see sample Colab notebooks that demonstrate machine learning applications, see the [machine learning examples](#machine-learning-examples) below."
      ]
    },
    {
      "cell_type": "markdown",
      "metadata": {
        "colab_type": "text",
        "id": "-Rh3-Vt9Nev9"
      },
      "source": [
        "## More Resources\n",
        "\n",
        "### Working with Notebooks in Colab\n",
        "- [Overview of Colaboratory](/notebooks/basic_features_overview.ipynb)\n",
        "- [Guide to Markdown](/notebooks/markdown_guide.ipynb)\n",
        "- [Importing libraries and installing dependencies](/notebooks/snippets/importing_libraries.ipynb)\n",
        "- [Saving and loading notebooks in GitHub](https://colab.research.google.com/github/googlecolab/colabtools/blob/master/notebooks/colab-github-demo.ipynb)\n",
        "- [Interactive forms](/notebooks/forms.ipynb)\n",
        "- [Interactive widgets](/notebooks/widgets.ipynb)\n",
        "- <img src=\"/img/new.png\" height=\"20px\" align=\"left\" hspace=\"4px\" alt=\"New\"></img>\n",
        " [TensorFlow 2 in Colab](/notebooks/tensorflow_version.ipynb)\n",
        "\n",
        "<a name=\"working-with-data\"></a>\n",
        "### Working with Data\n",
        "- [Loading data: Drive, Sheets, and Google Cloud Storage](/notebooks/io.ipynb) \n",
        "- [Charts: visualizing data](/notebooks/charts.ipynb)\n",
        "- [Getting started with BigQuery](/notebooks/bigquery.ipynb)\n",
        "\n",
        "### Machine Learning Crash Course\n",
        "These are a few of the notebooks from Google's online Machine Learning course. See the [full course website](https://developers.google.com/machine-learning/crash-course/) for more.\n",
        "- [Intro to Pandas](/notebooks/mlcc/intro_to_pandas.ipynb)\n",
        "- [Tensorflow concepts](/notebooks/mlcc/tensorflow_programming_concepts.ipynb)\n",
        "- [First steps with TensorFlow](/notebooks/mlcc/first_steps_with_tensor_flow.ipynb)\n",
        "- [Intro to neural nets](/notebooks/mlcc/intro_to_neural_nets.ipynb)\n",
        "- [Intro to sparse data and embeddings](/notebooks/mlcc/intro_to_sparse_data_and_embeddings.ipynb)\n",
        "\n",
        "<a name=\"using-accelerated-hardware\"></a>\n",
        "### Using Accelerated Hardware\n",
        "- [TensorFlow with GPUs](/notebooks/gpu.ipynb)\n",
        "- [TensorFlow with TPUs](/notebooks/tpu.ipynb)"
      ]
    },
    {
      "cell_type": "markdown",
      "metadata": {
        "colab_type": "text",
        "id": "P-H6Lw1vyNNd"
      },
      "source": [
        "<a name=\"machine-learning-examples\"></a>\n",
        "\n",
        "## Machine Learning Examples\n",
        "\n",
        "To see end-to-end examples of the interactive machine learning analyses that Colaboratory makes possible, check out these  tutorials using models from [TensorFlow Hub](https://tfhub.dev).\n",
        "\n",
        "A few featured examples:\n",
        "\n",
        "- [Retraining an Image Classifier](https://tensorflow.org/hub/tutorials/tf2_image_retraining): Build a Keras model on top of a pre-trained image classifier to distinguish flowers.\n",
        "- [Text Classification](https://tensorflow.org/hub/tutorials/tf2_text_classification): Classify IMDB movie reviews as either *positive* or *negative*.\n",
        "- [Style Transfer](https://tensorflow.org/hub/tutorials/tf2_arbitrary_image_stylization): Use deep learning to transfer style between images.\n",
        "- [Multilingual Universal Sentence Encoder Q&A](https://tensorflow.org/hub/tutorials/retrieval_with_tf_hub_universal_encoder_qa): Use a machine learning model to answer questions from the SQuAD dataset.\n",
        "- [Video Interpolation](https://tensorflow.org/hub/tutorials/tweening_conv3d): Predict what happened in a video between the first and the last frame.\n"
      ]
    },
    {
      "cell_type": "code",
      "metadata": {
        "id": "uryeCNaqgQp6",
        "colab_type": "code",
        "colab": {
          "base_uri": "https://localhost:8080/",
          "height": 156
        },
        "outputId": "9fdbdbf2-f34d-496f-83fe-b98ebfd5ffb7"
      },
      "source": [
        "#part 1 \n",
        "\n",
        "#1.\n",
        "\n",
        "import numpy as np\n",
        "\n",
        "print(\"array of 10 zeros :\")\n",
        "arr=np.zeros(10)\n",
        "print(arr)\n",
        "print(\"\\narray of 10 ones :\")\n",
        "arr=np.ones(10)\n",
        "print(arr)\n",
        "print(\"\\narray of 10 fives :\")\n",
        "arr=np.ones(10)*5\n",
        "print(arr)"
      ],
      "execution_count": 77,
      "outputs": [
        {
          "output_type": "stream",
          "text": [
            "array of 10 zeros :\n",
            "[0. 0. 0. 0. 0. 0. 0. 0. 0. 0.]\n",
            "\n",
            "array of 10 ones :\n",
            "[1. 1. 1. 1. 1. 1. 1. 1. 1. 1.]\n",
            "\n",
            "array of 10 fives :\n",
            "[5. 5. 5. 5. 5. 5. 5. 5. 5. 5.]\n"
          ],
          "name": "stdout"
        }
      ]
    },
    {
      "cell_type": "code",
      "metadata": {
        "id": "SE1Yu2Xrh1ef",
        "colab_type": "code",
        "colab": {
          "base_uri": "https://localhost:8080/",
          "height": 52
        },
        "outputId": "93e935ee-7427-4238-cc17-eba601c2fab4"
      },
      "source": [
        "#part 1\n",
        "\n",
        "#2.\n",
        "print(\"even number between 10 to 50 :\")\n",
        "arr1=np.arange(10,50,2)\n",
        "print(arr1)"
      ],
      "execution_count": 10,
      "outputs": [
        {
          "output_type": "stream",
          "text": [
            "even number between 10 to 50 :\n",
            "[10 12 14 16 18 20 22 24 26 28 30 32 34 36 38 40 42 44 46 48]\n"
          ],
          "name": "stdout"
        }
      ]
    },
    {
      "cell_type": "code",
      "metadata": {
        "id": "Xv-UVmtjlb_D",
        "colab_type": "code",
        "colab": {
          "base_uri": "https://localhost:8080/",
          "height": 86
        },
        "outputId": "8b2b2328-2a7b-45f8-c8b2-abb15bbf3c54"
      },
      "source": [
        "#part 1\n",
        "\n",
        "#3.\n",
        "\n",
        "print(\"random array of values range in 0 to 1\")\n",
        "arr2=np.random.rand(3,3)\n",
        "print(arr2)"
      ],
      "execution_count": 18,
      "outputs": [
        {
          "output_type": "stream",
          "text": [
            "random array of values range in 0 to 1\n",
            "[[0.60678495 0.99366321 0.71993094]\n",
            " [0.90034237 0.37608454 0.43905775]\n",
            " [0.7636291  0.20839832 0.45980467]]\n"
          ],
          "name": "stdout"
        }
      ]
    },
    {
      "cell_type": "code",
      "metadata": {
        "id": "OIxLxIPwlsva",
        "colab_type": "code",
        "colab": {
          "base_uri": "https://localhost:8080/",
          "height": 69
        },
        "outputId": "6b527d68-81ca-4f00-d0d2-a7e8f172f9f6"
      },
      "source": [
        "#part 1\n",
        "\n",
        "#4.\n",
        "\n",
        "text_file = open(\"text.txt\", \"w\")\n",
        "\n",
        "for row in arr2:\n",
        "\n",
        "    np.savetxt(text_file, row)\n",
        "\n",
        "text_file.close()\n",
        "\n",
        "arr3=np.loadtxt(\"text.txt\").reshape(3,3)\n",
        "print(arr3)"
      ],
      "execution_count": 25,
      "outputs": [
        {
          "output_type": "stream",
          "text": [
            "[[0.60678495 0.99366321 0.71993094]\n",
            " [0.90034237 0.37608454 0.43905775]\n",
            " [0.7636291  0.20839832 0.45980467]]\n"
          ],
          "name": "stdout"
        }
      ]
    },
    {
      "cell_type": "code",
      "metadata": {
        "id": "yYFcRS8tn8nZ",
        "colab_type": "code",
        "colab": {}
      },
      "source": [
        "# Authenticating drive permissions\n",
        "from pydrive.auth import GoogleAuth\n",
        "from pydrive.drive import GoogleDrive\n",
        "from google.colab import auth\n",
        "from oauth2client.client import GoogleCredentials\n",
        "\n",
        "auth.authenticate_user()\n",
        "gauth = GoogleAuth()\n",
        "gauth.credentials = GoogleCredentials.get_application_default()\n",
        "drive = GoogleDrive(gauth)"
      ],
      "execution_count": 105,
      "outputs": []
    },
    {
      "cell_type": "code",
      "metadata": {
        "id": "V-I3A_SioU2I",
        "colab_type": "code",
        "colab": {}
      },
      "source": [
        "# downloading the file from drive\n",
        "downloaded = drive.CreateFile({'id':\"1thWcxBQoh5Mh1-NyRFwb9oSUDCY6LXkT\"})\n",
        "downloaded.GetContentFile('image.jpg')"
      ],
      "execution_count": 106,
      "outputs": []
    },
    {
      "cell_type": "code",
      "metadata": {
        "id": "PIhufJCAoqss",
        "colab_type": "code",
        "colab": {
          "base_uri": "https://localhost:8080/",
          "height": 676
        },
        "outputId": "abded318-e4c2-43f9-ae96-555e1adb7049"
      },
      "source": [
        "# displaying the image loaded from drive\n",
        "from IPython.display import Image\n",
        "Image('image.jpg')\n",
        "# we will use this image for question 1"
      ],
      "execution_count": 113,
      "outputs": [
        {
          "output_type": "execute_result",
          "data": {
            "image/jpeg": "[encoded data removed]",
            "text/plain": [
              "<IPython.core.display.Image object>"
            ]
          },
          "metadata": {
            "tags": []
          },
          "execution_count": 113
        }
      ]
    },
    {
      "cell_type": "code",
      "metadata": {
        "id": "E2eA-gaGo5aC",
        "colab_type": "code",
        "colab": {
          "base_uri": "https://localhost:8080/",
          "height": 121
        },
        "outputId": "9fae3d64-95b1-43a9-930c-4b3a08294607"
      },
      "source": [
        "# Ques 1:\n",
        "import matplotlib.image as img\n",
        "def ImgToMat(image, CSVfile):\n",
        "  imageMat = img.imread(image)\n",
        "  print(\"Image shape (Height_pixels x Width_pixels x Channels): \", imageMat.shape)\n",
        "  \n",
        "  # Check if the array is 3D or not coz if it's a 3D array we cannot insert that into CSV\n",
        "  # as we it can only save 1D or 2D arrays.....\n",
        "  # therefore, we need to reshape the array to 2D array\n",
        "  \n",
        "  # if image is colored (RGB)\n",
        "  if(imageMat.shape[2] == 3):\n",
        "    imageMat_reshape = imageMat.reshape(imageMat.shape[0], -1)\n",
        "    print(\"Reshaping to 2D array:\", imageMat_reshape.shape)\n",
        "\n",
        "  # if image is greyscale\n",
        "  else: \n",
        "    imageMat_reshape = imageMat\n",
        "\n",
        "  # converting it to dataframe.\n",
        "  mat_df = pd.DataFrame(imageMat_reshape)\n",
        "  # exporting dataframe to CSV file.\n",
        "  mat_df.to_csv(CSVfile, header=None, index=None)\n",
        "\n",
        "  # retrieving dataframe from CSV file\n",
        "  loaded_df=pd.read_csv(CSVfile, sep=',',header=None)\n",
        "  # getting matrice values.\n",
        "  loaded_flat_mat = loaded_df.values\n",
        "\n",
        "  # generating original matrice from flattened loaded array.\n",
        "  loaded_mat = loaded_flat_mat.reshape(loaded_flat_mat.shape[0], loaded_flat_mat.shape[1] // imageMat.shape[2], imageMat.shape[2])\n",
        "\n",
        "  print(\"Image shape of loaded Image : \", loaded_mat.shape)\n",
        "\n",
        "  # check if both matrice have same shape or not\n",
        "  if((imageMat == loaded_mat).all()):\n",
        "    print(\"\\n\\nYes, The loaded matrice from CSV file is same as original image matrice\")\n",
        "\n",
        "\n",
        "# passing images and CSV file to the function\n",
        "ImgToMat('image.jpg', 'image.csv')"
      ],
      "execution_count": 114,
      "outputs": [
        {
          "output_type": "stream",
          "text": [
            "Image shape (Height_pixels x Width_pixels x Channels):  (701, 668, 3)\n",
            "Reshaping to 2D array: (701, 2004)\n",
            "Image shape of loaded Image :  (701, 668, 3)\n",
            "\n",
            "\n",
            "Yes, The loaded matrice from CSV file is same as original image matrice\n"
          ],
          "name": "stdout"
        }
      ]
    },
    {
      "cell_type": "code",
      "metadata": {
        "id": "BhUnz3C7pDGN",
        "colab_type": "code",
        "colab": {
          "base_uri": "https://localhost:8080/",
          "height": 34
        },
        "outputId": "83416c39-3d0a-4c53-db8d-705db41c3138"
      },
      "source": [
        "# Ques 2:\n",
        "def readCSV(CSVfile):\n",
        "  # function to import data from CSV file w/o last ROW and last COL\n",
        "  loaded_df = pd.read_csv(CSVfile, skiprows=-1)\n",
        "  loaded_df = loaded_df.iloc[:, :-1]\n",
        "  print(\"Loaded file shape after deleting last row and last column: \", loaded_df.shape)\n",
        "  return loaded_df\n",
        "\n",
        "ReqData = readCSV(\"image.csv\")"
      ],
      "execution_count": 115,
      "outputs": [
        {
          "output_type": "stream",
          "text": [
            "Loaded file shape after deleting last row and last column:  (700, 2003)\n"
          ],
          "name": "stdout"
        }
      ]
    },
    {
      "cell_type": "code",
      "metadata": {
        "id": "UeUrQ9awqBDz",
        "colab_type": "code",
        "colab": {
          "base_uri": "https://localhost:8080/",
          "height": 52
        },
        "outputId": "05d7dbb3-8ea9-4745-8802-eaef44710d21"
      },
      "source": [
        "#part 2\n",
        "\n",
        "#3\n",
        "\n",
        "import pandas as pd\n",
        "from datetime import date\n",
        "now=pd.to_datetime('today').date()\n",
        "print(\"Today's date:\")\n",
        "print(now)\n",
        "\n",
        "\n"
      ],
      "execution_count": 48,
      "outputs": [
        {
          "output_type": "stream",
          "text": [
            "Today's date:\n",
            "2020-08-23\n"
          ],
          "name": "stdout"
        }
      ]
    },
    {
      "cell_type": "code",
      "metadata": {
        "id": "zXykRKyh0vzV",
        "colab_type": "code",
        "colab": {
          "base_uri": "https://localhost:8080/",
          "height": 52
        },
        "outputId": "d565be52-8ff4-44ee-9086-0b758a2392b8"
      },
      "source": [
        "# part 3\n",
        "\n",
        "\n",
        "from datetime import datetime\n",
        "import time\n",
        "\n",
        "dob = input(\"Enter DOB in dd/mm/yyyy format: \")\n",
        "try :\n",
        "   dob = datetime.strptime(dob, '%d/%m/%Y')\n",
        "   age=(datetime.today() - dob).days/365\n",
        "   print(\"your current age is: %d\" % (age) + \"  years\")\n",
        "except ValueError:\n",
        "  print(\"Incorrect DOB ,please enter a correct date of birth \")\n",
        "   \n",
        "\n"
      ],
      "execution_count": 76,
      "outputs": [
        {
          "output_type": "stream",
          "text": [
            "Enter DOB in dd/mm/yyyy format: 17/06/2000\n",
            "your current age is: 20  years\n"
          ],
          "name": "stdout"
        }
      ]
    }
  ]
}